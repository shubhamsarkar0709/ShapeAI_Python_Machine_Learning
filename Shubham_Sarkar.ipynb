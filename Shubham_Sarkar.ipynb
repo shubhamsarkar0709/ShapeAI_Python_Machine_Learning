{
  "nbformat": 4,
  "nbformat_minor": 0,
  "metadata": {
    "colab": {
      "provenance": []
    },
    "kernelspec": {
      "name": "python3",
      "display_name": "Python 3"
    },
    "language_info": {
      "name": "python"
    }
  },
  "cells": [
    {
      "cell_type": "code",
      "execution_count": 1,
      "metadata": {
        "id": "lVZ9xR6CnZAi"
      },
      "outputs": [],
      "source": [
        "import numpy as np\n",
        "import pandas as pd\n",
        "import sklearn"
      ]
    },
    {
      "cell_type": "code",
      "source": [
        "from sklearn.datasets import load_boston\n",
        "df = load_boston()"
      ],
      "metadata": {
        "id": "bKOyegZdnhex"
      },
      "execution_count": null,
      "outputs": []
    },
    {
      "cell_type": "code",
      "source": [
        "df.keys()"
      ],
      "metadata": {
        "id": "Z7M4Ih43oA_-"
      },
      "execution_count": null,
      "outputs": []
    },
    {
      "cell_type": "code",
      "source": [
        "print(df.DESCR)"
      ],
      "metadata": {
        "id": "vj50-MT-oN_A"
      },
      "execution_count": null,
      "outputs": []
    },
    {
      "cell_type": "code",
      "source": [
        "boston = pd.DataFrame(df.data,columns = df.feature_names)\n",
        "boston.head()"
      ],
      "metadata": {
        "id": "iwtMiP5ap3GA"
      },
      "execution_count": null,
      "outputs": []
    },
    {
      "cell_type": "code",
      "source": [
        "boston ['MEDV'] = df.target\n",
        "boston.head()"
      ],
      "metadata": {
        "id": "vdOqowr9p-qr"
      },
      "execution_count": null,
      "outputs": []
    },
    {
      "cell_type": "code",
      "source": [
        "boston.isnull()"
      ],
      "metadata": {
        "id": "Rt-XpicYqZcD"
      },
      "execution_count": null,
      "outputs": []
    },
    {
      "cell_type": "code",
      "source": [
        "boston.isnull().sum()"
      ],
      "metadata": {
        "id": "2hfyRt3hqmCi"
      },
      "execution_count": null,
      "outputs": []
    },
    {
      "cell_type": "code",
      "source": [
        "from sklearn.model_selection import train_test_split\n",
        "X = boston.drop ('MEDV', axis = 1)\n",
        "Y = boston['MEDV']\n",
        "X_train, X_test, Y_train, Y_test = train_test_split ( X, Y, test_size = 0.15, random_state = 5)\n",
        "print ( X_train.shape)\n",
        "print ( X_test.shape)\n",
        "print ( Y_train.shape)\n",
        "print ( Y_test.shape)"
      ],
      "metadata": {
        "id": "ZrMk2GBFq3MJ"
      },
      "execution_count": null,
      "outputs": []
    },
    {
      "cell_type": "code",
      "source": [
        "from sklearn.linear_model import LinearRegression\n",
        "from sklearn. metrics import mean_squared_error"
      ],
      "metadata": {
        "id": "ObmE0KwZrhIB"
      },
      "execution_count": 15,
      "outputs": []
    },
    {
      "cell_type": "code",
      "source": [
        "lin_model = LinearRegression ()\n",
        "lin_model.fit ( X_train, Y_train)"
      ],
      "metadata": {
        "id": "4Nw1Kf3gr5O2"
      },
      "execution_count": null,
      "outputs": []
    },
    {
      "cell_type": "code",
      "source": [
        "Y_train_predict = lin_model.predict ( X_train)\n",
        "rmse = ( np.sqrt ( mean_squared_error( Y_train,Y_train_predict)))\n",
        "print(\"The model performance for training set\")\n",
        "print('RMSE is {}'. format (rmse))\n",
        "print(\"\\n\")\n",
        "Y_test_predict = lin_model.predict ( X_test)\n",
        "rmse = ( np.sqrt ( mean_squared_error (Y_test,Y_test_predict)))\n",
        "print(\"The model performance for testing set \")\n",
        "print(\"RMSE is {}\".format (rmse))"
      ],
      "metadata": {
        "id": "ResbYSQbsAAA"
      },
      "execution_count": null,
      "outputs": []
    }
  ]
}